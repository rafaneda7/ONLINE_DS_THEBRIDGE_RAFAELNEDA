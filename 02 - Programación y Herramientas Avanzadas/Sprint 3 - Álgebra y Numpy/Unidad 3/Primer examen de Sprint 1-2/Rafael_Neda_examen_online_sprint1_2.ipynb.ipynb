{
 "cells": [
  {
   "cell_type": "markdown",
   "id": "1f1401c1-4dc9-4902-95bf-160715a42a25",
   "metadata": {},
   "source": [
    "# Prueba de Ramp-up"
   ]
  },
  {
   "cell_type": "markdown",
   "id": "1b34c670-a6dd-482d-9b04-5babee7be17a",
   "metadata": {},
   "source": [
    "Antes de comenzar, cambia el nombre del archivo notebook poniéndole delante tu nombre y primer apellido:\n",
    "\n",
    "* ``<nombre_apellido>_examen_online.ipynb``"
   ]
  },
  {
   "cell_type": "code",
   "execution_count": 1,
   "id": "c8d9a657-272c-425a-9ac4-ea59f479673c",
   "metadata": {},
   "outputs": [],
   "source": [
    "# Escribe tu nombre en la variable:\n",
    "nombre_y_apellidos = \"Rafael Neda\" "
   ]
  },
  {
   "cell_type": "code",
   "execution_count": 2,
   "id": "2e9f9af5-076c-44ec-9a80-95c0e99cdc58",
   "metadata": {},
   "outputs": [],
   "source": [
    "\"\"\"\n",
    "Criterios de corrección:\n",
    "\n",
    "ejecución (ausencia de errores y obtención de resultados)\n",
    "estructura del código\n",
    "uso correcto de variables\n",
    "manejo de tipo de variables\n",
    "asignaciones\n",
    "operaciones booleanas\n",
    "manejo lógico de flujos de control y bucles\n",
    "uso de colecciones\n",
    "uso de funciones\n",
    "\"\"\";\n",
    "\n",
    "# Ejemplo de como queremos ver el código para más de un intento:\n",
    "\n",
    "# intento 1\n",
    "#your code\n",
    "\n",
    "# intento 2\n",
    "#your code"
   ]
  },
  {
   "cell_type": "code",
   "execution_count": 3,
   "id": "bb16d0e3-3bb9-4f2b-944e-8fc35e628701",
   "metadata": {},
   "outputs": [],
   "source": [
    "# crea todas las celdas que necesites"
   ]
  },
  {
   "cell_type": "markdown",
   "id": "9e02b8f5-6f66-4e73-acfa-7f8c3977de2a",
   "metadata": {},
   "source": [
    "#### Notas y pruebas de apoyo para contestar las preguntas\n",
    "\n",
    "\n",
    "Cualquier código aunque no esté correcto nos dirá más de ti que no escribir nada. "
   ]
  },
  {
   "cell_type": "markdown",
   "id": "57d6b062-27f8-4377-b583-d662777b0bd7",
   "metadata": {},
   "source": [
    "__Debes subir este notebook a tu REPO PERSONAL__\n",
    "\n",
    "__Hora: hasta las 21:20 del 06/11/2024__"
   ]
  },
  {
   "cell_type": "markdown",
   "id": "062d81e8",
   "metadata": {},
   "source": [
    "#### Ejercicio 1\n",
    "\n",
    "Disponemos de una lista con información sobre varios empleados:\n",
    "\n",
    "    empleados = \n",
    "    [[12345, \"Juan Rodríguez\", 53, [\"Director financiero\"], 2],[56789, \"Laura Pérez\", 41, [\"CEO\", \"Director\", \"Gerente\"], 2],[88354, \"Pedro Álvarez\", 26, [\"Asistente\",\"Gestor comercial\"], 3]]\n",
    "\n",
    "Respecto de cada empleado, la lista contiene cinco elementos: en el primero almacenamos su tfno, en el segundo su nombre, en el tercero su edad, en el cuarto los puestos que ha desempeñado en la empresa (en forma de lista) y en el quinto su código postal.\n",
    "\n",
    "1. Siguiendo la misma estructura, incluye un nuevo empleado en la última posición de la lista empleados.\n",
    "\n",
    "2. Mostrar por pantalla, sin uso de funciones (salvo print) ni bucles: \n",
    "\n",
    "    - El nombre y la edad del tercer empleado de la lista empleados.\n",
    "    - Los puestos desempeñados por Pedro Álvarez, ordenados de atras a adelante (es decir, de Gestor comercial a Asistente)\n",
    "    - Si el nuevo empleado que has añadido tiene más o igual a 60 años, muestra por pantalla los puestos que el nuevo empleado haya desempeñado en la empresa. En caso contrario, muestra los puestos desempeñados por Laura Pérez y Juan Rodriguez."
   ]
  },
  {
   "cell_type": "code",
   "execution_count": 174,
   "id": "5fc4152b",
   "metadata": {},
   "outputs": [
    {
     "name": "stdout",
     "output_type": "stream",
     "text": [
      "[12345, 'Juan Rodríguez', 53, ['Director financiero'], 2]\n",
      "[56789, 'Laura Pérez', 41, ['CEO', 'Director', 'Gerente'], 2]\n",
      "[88354, 'Pedro Álvarez', 26, ['Asistente', 'Gestor comercial'], 3]\n",
      "[32541, 'Rafael Neda', 30, ['Gerente de calidad', 'Control de calidad'], 46018]\n",
      "\n",
      "El nombre del tercer empleado es Pedro Álvarez y su edad es 26\n",
      "\n",
      "Los puestos desempeñados por Pedro Álvarez, ordenados de atras hacia adelante son: ['Gestor comercial', 'Asistente']\n",
      "\n",
      "El empleado Rafael Neda no tiene mas de 60 años por lo tanto los puestos desempeñados por Laura Pérez y Pedro Álvarez \n",
      "en la empresa son ['CEO', 'Director', 'Gerente'] y ['Asistente', 'Gestor comercial'] respectivamente\n"
     ]
    }
   ],
   "source": [
    "empleados = [[12345, \"Juan Rodríguez\", 53, [\"Director financiero\"], 2],\n",
    "             [56789, \"Laura Pérez\", 41, [\"CEO\", \"Director\", \"Gerente\"], 2],\n",
    "             [88354, \"Pedro Álvarez\", 26, [\"Asistente\",\"Gestor comercial\"], 3]]\n",
    "\n",
    "# Creacion de nuevo empleado\n",
    "empleado_add = [32541, \"Rafael Neda\", 30, [\"Gerente de calidad\", \"Control de calidad\"], 46018]\n",
    "\n",
    "# Incorporacion del nuevo empleado a la lista ya existente\n",
    "empleados.append(empleado_add)\n",
    "\n",
    "# Printar a cada empleado en lineas diferentes y no todos en una linea para que sea mas estetico\n",
    "for empleado in empleados:\n",
    "    print(empleado)\n",
    "\n",
    "# El nombre y la edad del tercer empleado de la lista empleados\n",
    "print(f\"\\nEl nombre del tercer empleado es {empleados[2][1]} y su edad es {empleados[2][2]}\\n\")\n",
    "\n",
    "# Los puestos desempeñados por Pedro Álvarez, ordenados de atras a adelante (es decir, de Gestor comercial a Asistente)\n",
    "print(f\"Los puestos desempeñados por Pedro Álvarez, ordenados de atras hacia adelante son: {empleados[2][-2][-1::-1]}\\n\")\n",
    "\n",
    "# Si el nuevo empleado que has añadido tiene más o igual a 60 años, muestra por pantalla los puestos que el nuevo empleado haya desempeñado en la empresa.\n",
    "# En caso contrario, muestra los puestos desempeñados por Laura Pérez y Juan Rodriguez.\n",
    "if empleados[3][2] >= 60:\n",
    "    print(f\"{empleados[3][3]}\")\n",
    "else:\n",
    "    print(f\"El empleado {empleados[3][1]} no tiene mas de 60 años por lo tanto los puestos desempeñados por {empleados[1][1]} y {empleados[2][1]} \\nen la empresa son {empleados[1][3]} y {empleados[2][3]} respectivamente\")"
   ]
  },
  {
   "cell_type": "code",
   "execution_count": null,
   "id": "ae316b4b",
   "metadata": {},
   "outputs": [
    {
     "name": "stdout",
     "output_type": "stream",
     "text": [
      "[[12345, 'Juan Rodríguez', 53, ['Director financiero'], 2], [56789, 'Laura Pérez', 41, ['CEO', 'Director', 'Gerente'], 2], [88354, 'Pedro Álvarez', 26, ['Asistente', 'Gestor comercial'], 3], [1234, 'Marina Gómez', 22, ['Asistente'], 1]]\n",
      "El tercer empleado se llama Pedro Álvarez y tiene 26 años\n",
      "['Gestor comercial', 'Asistente']\n",
      "Puestos desempeñados por Laura Pérez ['CEO', 'Director', 'Gerente']\n",
      "Puestos desempeñados por Juan Rodriguez ['Director financiero']\n"
     ]
    }
   ],
   "source": []
  },
  {
   "cell_type": "markdown",
   "id": "4da89624-0da3-4f91-aa5c-a084c5ee1b17",
   "metadata": {},
   "source": [
    "#### Ejercicio 2. \n",
    "\n",
    "Escribe un programa que te diga si una letra es una consonante o una vocal. Crea tu propia **FUNCIÓN**\n"
   ]
  },
  {
   "cell_type": "code",
   "execution_count": 167,
   "id": "06f0ca81",
   "metadata": {},
   "outputs": [
    {
     "data": {
      "text/plain": [
       "'La letra f es una consonante'"
      ]
     },
     "execution_count": 167,
     "metadata": {},
     "output_type": "execute_result"
    }
   ],
   "source": [
    "def tipo_letra(letra):\n",
    "\n",
    "# Se verifica si la letra suministrada, no es una letra realmente o si se introdujo mas de una letra para evitar errores\n",
    "    if not letra.isalpha() or len(letra) != 1:\n",
    "        raise ValueError(\"Por favor introduzca una única letra válida, no un número, caracter o mas de una letra.\")\n",
    "\n",
    "# Se instancia una lista con los strings de las vocales del abecedario para que sirvan de control en la comprobacion posterior\n",
    "    vocales = [\"a\", \"e\", \"i\", \"o\", \"u\"]\n",
    "\n",
    "# Se pasan todas las letras de la frase a minusculas para evitar errores\n",
    "    letra = letra.lower()\n",
    "\n",
    "# Se hace una comprobacion si la letra suministrada esta en la lista de vocales\n",
    "    if letra in vocales:\n",
    "        print(f\"La letra {letra} es una vocal\")\n",
    "    else:\n",
    "        return f\"La letra {letra} es una consonante\"\n",
    "\n",
    "# En la funcion coloco un input para que el usuario introduzca la letra\n",
    "letra = input(\"Por favor, introduzca una letra:\")\n",
    "\n",
    "tipo_letra(letra)\n",
    "\n",
    "# PREGUNTA: Para comprobar que por ejemplo à, á o ä son vocales, habria que colocar cada una de sus variaciones en la lista de vocales? O habria algun método menos laborioso? "
   ]
  },
  {
   "cell_type": "markdown",
   "id": "52065a6c-3d4c-44c0-a10b-958506c481b3",
   "metadata": {},
   "source": [
    "#### Ejercicio 3. \n",
    "\n",
    "Escribe un programa que calcule la edad humana de un perro.\n",
    "Tienes que pedirle al usuario la edad del perro en años.\n",
    "Si el usuario introduce un número negativo, imprime que la cifra facilitada no tiene sentido. Si el perro tiene un año, son 14 años humanos. Si tiene 2 años, son 22 años humanos.\n",
    "A partir de los 2 años, el cálculo es el siguiente: a la edad del perro se le restan 2 años, el resultado se multiplica por 5 y, finalmente, se le suma 22.\n",
    "Usa una función sin argumentos de entrada ni de salida (muestra toda la información con print())"
   ]
  },
  {
   "cell_type": "code",
   "execution_count": null,
   "id": "9c59c801-1fe1-4a6d-a000-f85ca738ed00",
   "metadata": {},
   "outputs": [
    {
     "name": "stdout",
     "output_type": "stream",
     "text": [
      "Su perro tiene 33.17 años humanos\n"
     ]
    }
   ],
   "source": [
    "# Primeramente se inicia con un control de errores para garantizar que el valor suministrado en efecto sea un numero y no un sting.\n",
    "try:\n",
    "    edad_perro = float(input(\"Por favor introduzca la edad de su perro para transformarla en edad humana: \"))\n",
    "# Se transformo el input a un float en lugar de un int para evitar errores en caso de que el usuario introduzca decimales.\n",
    "# Si el usuario introduce un número negativo, imprime que la cifra facilitada no tiene sentido.\n",
    "    if edad_perro < 0:\n",
    "        print(\"La cifra facilitada no tiene sentido\")\n",
    "    elif edad_perro == 1: # Si el perro tiene un año, son 14 años humanos.\n",
    "        edad_perro_humana1 = (edad_perro + 13)\n",
    "        print(f\"Su perro tiene {round(edad_perro_humana1, 2)} años humanos\")\n",
    "    elif edad_perro == 2: # Si tiene 2 años, son 22 años humanos.\n",
    "        edad_perro_humana2 = (edad_perro + 20)\n",
    "        print(f\"Su perro tiene {round(edad_perro_humana2, 2)} años humanos\")\n",
    "    else: # A partir de los 2 años, el cálculo es el siguiente: a la edad del perro se le restan 2 años, el resultado se multiplica por 5 y, finalmente, se le suma 22\n",
    "        edad_perro_humana3 = ((edad_perro - 2) * 5) + 22\n",
    "        print(f\"Su perro tiene {round(edad_perro_humana3, 2)} años humanos\")\n",
    "\n",
    "except:\n",
    "    raise ValueError(\"Por favor introduzca un número entero válido para la edad del perro.\")\n"
   ]
  },
  {
   "cell_type": "markdown",
   "id": "2991309f-4208-431a-900c-d9bc734bb936",
   "metadata": {},
   "source": [
    "#### Ejercicio 4. \n",
    "\n",
    "Escribe un programa que te diga si una frase es un pangrama. Un pangrama es una frase que contiene todas las letras del alfabeto.\n",
    "Puedes tener espacios en blanco, pero NO  tendrás signos de puntuación, a excepción de las tildes.\n",
    "\n",
    "Ejemplo de pangrama:\n",
    "\n",
    "Extraño pan de col y kiwi se quemó bajo fugaz vaho"
   ]
  },
  {
   "cell_type": "code",
   "execution_count": null,
   "id": "9a349c1e-15ab-4253-97f8-2a07a263791d",
   "metadata": {},
   "outputs": [
    {
     "data": {
      "text/plain": [
       "'Su frase -extraño pan de col y kiwi se quemó bajo fugaz vaho- tiene todas las letras del abecedario'"
      ]
     },
     "execution_count": 140,
     "metadata": {},
     "output_type": "execute_result"
    }
   ],
   "source": [
    "def pangrama(frase):\n",
    "\n",
    "# Se instancia una lista con los strings del abecedario para que sirvan de control en la comprobacion posterior\n",
    "    alfabeto = ['a', 'b', 'c', 'd', 'e', 'f', 'g', 'h', 'i', 'j', 'k', 'l', 'm', 'n', 'ñ', 'o', 'p', 'q', 'r', 's', 't', 'u', 'v', 'w', 'x', 'y', 'z']\n",
    "\n",
    "# Se pasan todas las letras de la frase a minusculas para evitar errores\n",
    "    frase = str(frase).lower()\n",
    "\n",
    "    for letra in alfabeto:\n",
    "        if letra not in frase:\n",
    "            print(f\"A su frase {frase} la faltan integrar algunas letras del abecedario\")\n",
    "        else:\n",
    "            return f\"Su frase -{frase}- tiene todas las letras del abecedario\"\n",
    "\n",
    "# frase = input(\"Por favor, introduzca una letra: \").lower()\n",
    "# Se podria colocar igualmente un input para que el usuario introduzca la frase igual que en el ejercicio 2\n",
    "pangrama(\"Extraño pan de col y kiwi se quemó bajo fugaz vaho\")"
   ]
  },
  {
   "cell_type": "markdown",
   "id": "3dbb76e0-79b2-45e8-9034-58ee9cbd82bb",
   "metadata": {},
   "source": [
    "#### Ejercicio 5. \n",
    "\n",
    "Escribe un programa que use diccionarios para traducir palabras entre varios idiomas.\n",
    "Deberás pedirle al usuario una palabra por teclado, ver si está en tu diccionario. En caso de que esté, deberás mostrar la traducción de esa palabra.\n",
    "\n",
    "Ejemplo de diccionario:\n",
    "\n",
    "```python\n",
    "{\"file\": \"Fichier\", \"new\": \"Nouveau\", \"open\": \"Ouvrir\", \"save\": \"Enregistrer\", \"save as\": \"Enregistrer sous\", \"print preview\": \"Apercu avant impressioner\", \"print\": \"Imprimer\", \"close\": \"Fermer\", \"exit\": \"Quitter\"}\n"
   ]
  },
  {
   "cell_type": "code",
   "execution_count": null,
   "id": "88236123-e8ac-45da-87d0-134a88a690c1",
   "metadata": {},
   "outputs": [
    {
     "name": "stdout",
     "output_type": "stream",
     "text": [
      "La palabra 'save' significa 'Enregistrer' en frances\n"
     ]
    }
   ],
   "source": [
    "diccionario_eng_fr = {\"file\": \"Fichier\", \n",
    "                      \"new\": \"Nouveau\", \n",
    "                      \"open\": \"Ouvrir\", \n",
    "                      \"save\": \"Enregistrer\", \n",
    "                      \"save as\": \"Enregistrer sous\", \n",
    "                      \"print preview\": \"Apercu avant impressioner\", \n",
    "                      \"print\": \"Imprimer\", \n",
    "                      \"close\": \"Fermer\", \n",
    "                      \"exit\": \"Quitter\"}\n",
    "\n",
    "# Se inicializa un input donde se debe ingresar una palabra, este input lo he convertido en str y luego aplicado el metodo .lower() para evitar errores con las mayusculas\n",
    "palabra_dict = str(input(\"Por favor introduce la palabra en ingles que desea traducir al frances\").lower())\n",
    "\n",
    "if palabra_dict in diccionario_eng_fr:\n",
    "    print(f\"La palabra '{palabra_dict}' significa '{diccionario_eng_fr[palabra_dict]}' en frances.\")\n",
    "else:\n",
    "    print(\"Su palabra no se encuentra en nuestra base de datos para traduccion\")"
   ]
  },
  {
   "cell_type": "markdown",
   "id": "61967ca4-7e06-44b3-ad7b-adbc0e71671a",
   "metadata": {},
   "source": [
    "#### Ejercicio 6. (Bonus).\n",
    "\n",
    "Usando `OOP` modela un theremin (es un instrumento musical que se toca modificando el campo electromagnético, por si tenías curiosidad).\n",
    "Tendrá de atributos la marca, el modelo, el peso, la potencia y la batería.\n",
    "\n",
    "Todos los instrumentos se crean con un peso predeterminado de 500, una potencia de 50 y una batería de 200.\n",
    "\n",
    "Cuando se recarga la batería vale 200.\n",
    "\n",
    "Cuando se toca, se muestra por pantalla que está sonando y la batería disminuye 10 (no siendo nunca negativo).\n",
    "Si no hay batería, no puede sonar. Crea un instrumento, tócalo mientras quede batería, cárgalo y no lo vuelvas a tocar.\n"
   ]
  },
  {
   "cell_type": "code",
   "execution_count": 148,
   "id": "3b5321ff",
   "metadata": {},
   "outputs": [
    {
     "name": "stdout",
     "output_type": "stream",
     "text": [
      "El intrumento esta sonando\n",
      "El intrumento esta sonando\n",
      "El intrumento esta sonando\n",
      "El intrumento esta sonando\n",
      "El intrumento esta sonando\n",
      "El intrumento esta sonando\n",
      "El intrumento esta sonando\n",
      "El intrumento esta sonando\n",
      "El intrumento esta sonando\n",
      "El intrumento esta sonando\n",
      "El intrumento esta sonando\n",
      "El intrumento esta sonando\n",
      "El intrumento esta sonando\n",
      "El intrumento esta sonando\n",
      "El intrumento esta sonando\n",
      "El intrumento esta sonando\n",
      "El intrumento esta sonando\n",
      "El intrumento esta sonando\n",
      "El intrumento esta sonando\n",
      "El intrumento esta sonando\n",
      "No hay suficiente bateria\n",
      "Bateria llena\n"
     ]
    }
   ],
   "source": [
    "class Instrumento:\n",
    "\n",
    "# Se inicia definiendo todos los argumentos y atributos que necesitemos en la clase, ya esten con un valor predefinido o no.\n",
    "    def __init__(self, marca, modelo, peso = 500, potencia = 50, bateria = 200):\n",
    "        self.marca = marca\n",
    "        self.modelo = modelo\n",
    "        self.peso = peso\n",
    "        self.potencia = potencia\n",
    "        self.bateria = bateria\n",
    "\n",
    "# Se define la función recarga() a 200, pintando por pantalla que la bateria del instrumento esta llena\n",
    "    def recarga(self):\n",
    "        self.bateria = 200\n",
    "        print(\"Bateria llena\")\n",
    "\n",
    "# Se define la función tocar() que lo que indica es que cuando se toque el instrumento su bateria disminuira en 10 (-10). \n",
    "# Y cuando esta llegue a 0 pintar por pantalla que se ha quedado sin bateria\n",
    "    def tocar(self):\n",
    "        if self.bateria - 10 >= 0:\n",
    "            print(\"El intrumento esta sonando\")\n",
    "            self.bateria = self.bateria - 10\n",
    "        else:\n",
    "            print(\"No hay suficiente bateria\")\n",
    "\n",
    "instrumento1 = Instrumento(marca = \"Yamaha\", modelo=\"C40\")\n",
    "\n",
    "# En este bucle lo que indicamos es que mientras la bateria del instrumento sera mayor a 0, seguira ejecutando la función tocar(), y en la misma definicion de la funcion tocar()\n",
    "# se define que cuando la bateria llegue a 0 pintara por pantalla: \"No hay suficiente bateria\"\n",
    "while instrumento1.bateria > 0:\n",
    "    instrumento1.tocar()\n",
    "instrumento1.tocar()\n",
    "\n",
    "instrumento1.recarga()"
   ]
  },
  {
   "cell_type": "code",
   "execution_count": null,
   "id": "8082c8cd-03a9-478e-aa72-4ec1306e1bb2",
   "metadata": {},
   "outputs": [
    {
     "name": "stdout",
     "output_type": "stream",
     "text": [
      "El theremin modelo_molon está tocando.\n",
      "El theremin modelo_molon está tocando.\n",
      "El theremin modelo_molon está tocando.\n",
      "El theremin modelo_molon está tocando.\n",
      "El theremin modelo_molon está tocando.\n",
      "El theremin modelo_molon está tocando.\n",
      "El theremin modelo_molon está tocando.\n",
      "El theremin modelo_molon está tocando.\n",
      "El theremin modelo_molon está tocando.\n",
      "El theremin modelo_molon está tocando.\n",
      "El theremin modelo_molon está tocando.\n",
      "El theremin modelo_molon está tocando.\n",
      "El theremin modelo_molon está tocando.\n",
      "El theremin modelo_molon está tocando.\n",
      "El theremin modelo_molon está tocando.\n",
      "El theremin modelo_molon está tocando.\n",
      "El theremin modelo_molon está tocando.\n",
      "El theremin modelo_molon está tocando.\n",
      "El theremin modelo_molon está tocando.\n",
      "El theremin modelo_molon está tocando.\n",
      "El theremin modelo_molon no tiene batería.\n",
      "Bateria llena.\n"
     ]
    }
   ],
   "source": []
  },
  {
   "cell_type": "markdown",
   "id": "30f773b5-a6da-4446-b36b-722b2ee57730",
   "metadata": {},
   "source": [
    "#### Ejercicio 7. Extra (NO PUNTÚA).\n",
    "Una empresa usa dos listas  para guardar la información de sus empleados. Una lista guarda el nombre del empleado y la otra guarda su salario. Escribe un programa que cree esas dos listas originalmente vacías y que a través de un menú pueda hacer lo siguiente:\n",
    "    \n",
    "Inserta 1 para añadir un nuevo empleado y su salario\n",
    "\n",
    "Inserta 2 para imprimir los nombres y salarios de todos los empleados\n",
    "\n",
    "Inserta 3 para mostrar el número de empleados\n",
    "\n",
    "Inserta 4 para imprimir los nombres de los empleados con sueldos superiores a 400000\n",
    "\n",
    "Inserta 5 para subir un 5% los sueldos por debajo de 10000\n",
    "\n",
    "Inserta 6 para mostrar el total de todos los salarios\n",
    "\n",
    "Inserta 7 para salir del programa"
   ]
  },
  {
   "cell_type": "code",
   "execution_count": null,
   "id": "67858e27-b7f5-4e05-bc50-3fca698ad22a",
   "metadata": {},
   "outputs": [
    {
     "name": "stdout",
     "output_type": "stream",
     "text": [
      "\n",
      "\n",
      "¡Bienvenido!\n",
      "\n",
      "Inserta 1 para añadir un nuevo empleado y su salario\n",
      "Inserta 2 para imprimir los nombres y salarios de todos los empleados\n",
      "Inserta 3 para mostrar el número de empleados\n",
      "Inserta 4 para imprimir los nombres de los empleados con sueldos superiores a 400000\n",
      "Inserta 5 para subir un 5% los sueldos por debajo de 10000\n",
      "Inserta 6 para mostrar el total de todos los salarios\n",
      "Inserta 7 para salir del programa\n",
      "\n",
      "    \n",
      "\n",
      "Suma de todos los sueldos:  10000\n",
      "\n",
      "Cantidad de empleados:  1\n",
      "\n",
      "¡Gracias por usar el programa!\n"
     ]
    }
   ],
   "source": []
  },
  {
   "cell_type": "markdown",
   "id": "e33a0e21-476e-4103-b889-a6b3e76b99f3",
   "metadata": {},
   "source": [
    "\n",
    "####  Ejercicio 8. EXTRA (NO PUNTÚA).\n",
    "\n",
    "Escribe un programa que __USE RECURSIVIDAD__ para decidir cuál es la película de Pixar favorita de un usuario.\n",
    "El programa preguntará al usuario cuál de 2 películas es su favorita, y con esa favorita se le volverá a preguntar entre esa y otra película cuál es su favorita...y así hasta que el usuario haya decidido de entre todas cuál es su favorita.\n",
    "\n",
    "Pista: si no quieres cambiar una lista, usa copy() y tendrás una copia que es otro objeto\n",
    "\n"
   ]
  },
  {
   "cell_type": "code",
   "execution_count": null,
   "id": "c9936fd4-6d29-4535-9f34-a6f289d18d8b",
   "metadata": {},
   "outputs": [
    {
     "name": "stdout",
     "output_type": "stream",
     "text": [
      "Si prefieres Toy Story marca 1, si prefieres Soul marca 2: 1\n",
      "Prefieres Toy Story\n",
      "Si prefieres Toy Story marca 1, si prefieres Up marca 2: 2\n",
      "Prefieres Up\n",
      "Si prefieres Up marca 1, si prefieres Coco marca 2: 2\n",
      "Prefieres Coco\n",
      "Si prefieres Coco marca 1, si prefieres Luca marca 2: 1\n",
      "Prefieres Coco\n",
      "Si prefieres Coco marca 1, si prefieres Monsters marca 2: 2\n",
      "Prefieres Monsters\n",
      "Si prefieres Monsters marca 1, si prefieres Inside Out marca 2: 1\n",
      "Prefieres Monsters\n",
      "Si prefieres Monsters marca 1, si prefieres WallE marca 2: 2\n",
      "Prefieres WallE\n",
      "Si prefieres WallE marca 1, si prefieres Buscando a Nemo marca 2: 2\n",
      "Prefieres Buscando a Nemo\n",
      "Si prefieres Buscando a Nemo marca 1, si prefieres Los increíbles marca 2: 1\n",
      "Prefieres Buscando a Nemo\n",
      "\n",
      "Prefieres finalmente Buscando a Nemo\n"
     ]
    }
   ],
   "source": []
  },
  {
   "cell_type": "code",
   "execution_count": 1,
   "id": "10a7b881",
   "metadata": {},
   "outputs": [],
   "source": [
    "# FIN DEL EXAMEN"
   ]
  }
 ],
 "metadata": {
  "kernelspec": {
   "display_name": "Python 3",
   "language": "python",
   "name": "python3"
  },
  "language_info": {
   "codemirror_mode": {
    "name": "ipython",
    "version": 3
   },
   "file_extension": ".py",
   "mimetype": "text/x-python",
   "name": "python",
   "nbconvert_exporter": "python",
   "pygments_lexer": "ipython3",
   "version": "3.12.7"
  }
 },
 "nbformat": 4,
 "nbformat_minor": 5
}
